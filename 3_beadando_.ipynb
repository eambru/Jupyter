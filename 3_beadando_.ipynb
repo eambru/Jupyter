{
 "cells": [
  {
   "cell_type": "code",
   "execution_count": 1,
   "id": "5982e472",
   "metadata": {},
   "outputs": [],
   "source": [
    "import pandas as pd\n",
    "import numpy as np"
   ]
  },
  {
   "cell_type": "code",
   "execution_count": 2,
   "id": "cea827df",
   "metadata": {},
   "outputs": [],
   "source": [
    "train = pd.read_csv(\"C:/Users/eambr/Desktop/datafiles_lab3 (1)/train.csv\" )\n",
    "test = pd.read_csv(\"C:/Users/eambr/Desktop/datafiles_lab3 (1)/test.csv\" )"
   ]
  },
  {
   "cell_type": "code",
   "execution_count": 78,
   "id": "d93abd8f",
   "metadata": {},
   "outputs": [],
   "source": [
    "from sklearn.preprocessing import LabelEncoder\n",
    "from sklearn.linear_model import LogisticRegression\n",
    "from sklearn.model_selection import KFold\n",
    "from sklearn.ensemble import RandomForestClassifier\n",
    "from sklearn.tree import DecisionTreeClassifier\n",
    "from sklearn import metrics"
   ]
  },
  {
   "cell_type": "code",
   "execution_count": 4,
   "id": "5b782b75",
   "metadata": {},
   "outputs": [],
   "source": [
    "var_mod_test = ['workclass', 'education', 'marital.status', 'occupation',\n",
    "                'relationship', 'race', 'sex', 'native.country', 'target']\n",
    "le = LabelEncoder()\n",
    "for j in var_mod_test:\n",
    "    train[j] = le.fit_transform(train[j])\n",
    "train.dtypes"
   ]
  },
  {
   "cell_type": "code",
   "execution_count": 79,
   "id": "4798825d",
   "metadata": {},
   "outputs": [],
   "source": [
    "def classification_model(model, data, predictors, outcome):\n",
    "    model.fit(data[predictors], data[outcome])\n",
    "    predictions = model.predict(data[predictors])\n",
    "    \n",
    "    accuracy = metrics.accuracy_score(predictions, data[outcome])\n",
    "    print(\"Accuracy: %s\" % \"{0:.3%}\".format(accuracy))\n",
    "    \n",
    "    kf = KFold(n_splits = 5)\n",
    "    error = []\n",
    "    \n",
    "    for train, test in kf.split(data):\n",
    "        train_predictors = (data[predictors].iloc[train, :])\n",
    "        train_target = (data[outcome].iloc[train])\n",
    "        \n",
    "        model.fit(train_predictors, train_target)\n",
    "        error.append(model.score(data[predictors].iloc[test, :], data[outcome].iloc[test]))\n",
    "        \n",
    "    print(\"Cross-Validation score: %s\" % \"{0:.3%}\".format(np.mean(error)))\n",
    "    model.fit(data[predictors], data[outcome])"
   ]
  },
  {
   "cell_type": "code",
   "execution_count": 80,
   "id": "c91cac28",
   "metadata": {},
   "outputs": [
    {
     "data": {
      "text/plain": [
       "age               int64\n",
       "workclass         int64\n",
       "fnlwgt            int64\n",
       "education         int64\n",
       "education.num     int64\n",
       "marital.status    int64\n",
       "occupation        int64\n",
       "relationship      int64\n",
       "race              int64\n",
       "sex               int64\n",
       "capital.gain      int64\n",
       "capital.loss      int64\n",
       "hours.per.week    int64\n",
       "native.country    int64\n",
       "target            int64\n",
       "dtype: object"
      ]
     },
     "execution_count": 80,
     "metadata": {},
     "output_type": "execute_result"
    }
   ],
   "source": [
    "var_mod_test = ['workclass', 'education', 'marital.status', 'occupation',\n",
    "                'relationship', 'race', 'sex', 'native.country', 'target']\n",
    "le = LabelEncoder()\n",
    "for j in var_mod_test:\n",
    "    train[j] = le.fit_transform(train[j])\n",
    "train.dtypes"
   ]
  },
  {
   "cell_type": "code",
   "execution_count": 81,
   "id": "792f8bc8",
   "metadata": {},
   "outputs": [
    {
     "data": {
      "text/plain": [
       "age               int64\n",
       "workclass         int64\n",
       "fnlwgt            int64\n",
       "education         int64\n",
       "education.num     int64\n",
       "marital.status    int64\n",
       "occupation        int64\n",
       "relationship      int64\n",
       "race              int64\n",
       "sex               int64\n",
       "capital.gain      int64\n",
       "capital.loss      int64\n",
       "hours.per.week    int64\n",
       "native.country    int64\n",
       "target            int64\n",
       "dtype: object"
      ]
     },
     "execution_count": 81,
     "metadata": {},
     "output_type": "execute_result"
    }
   ],
   "source": [
    "var_mod_test = ['workclass', 'education', 'marital.status', 'occupation',\n",
    "                'relationship', 'race', 'sex', 'native.country', 'target']\n",
    "le = LabelEncoder()\n",
    "for i in var_mod_test:\n",
    "    test[i] = le.fit_transform(test[i])\n",
    "test.dtypes"
   ]
  },
  {
   "cell_type": "code",
   "execution_count": 91,
   "id": "f777af36",
   "metadata": {
    "scrolled": true
   },
   "outputs": [
    {
     "name": "stdout",
     "output_type": "stream",
     "text": [
      "Accuracy: 90.056%\n",
      "Cross-Validation score: 90.056%\n"
     ]
    }
   ],
   "source": [
    "outcome_var = 'native.country'\n",
    "model = LogisticRegression()\n",
    "predictor_var = ['sex']\n",
    "classification_model(model, test, predictor_var, outcome_var)"
   ]
  },
  {
   "cell_type": "code",
   "execution_count": 98,
   "id": "1b8e8e27",
   "metadata": {},
   "outputs": [
    {
     "name": "stdout",
     "output_type": "stream",
     "text": [
      "Accuracy: 90.056%\n",
      "Cross-Validation score: 90.056%\n"
     ]
    }
   ],
   "source": [
    "predictor_var = ['sex', 'workclass', 'hours.per.week', 'age']\n",
    "\n",
    "classification_model(model, test, predictor_var, outcome_var)"
   ]
  },
  {
   "cell_type": "code",
   "execution_count": 92,
   "id": "740b5296",
   "metadata": {},
   "outputs": [
    {
     "name": "stdout",
     "output_type": "stream",
     "text": [
      "Accuracy: 90.805%\n",
      "Cross-Validation score: 89.736%\n"
     ]
    }
   ],
   "source": [
    "model = DecisionTreeClassifier()\n",
    "predictor_var = ['sex', 'marital.status', 'relationship', 'education']\n",
    "classification_model(model, test, predictor_var, outcome_var)"
   ]
  },
  {
   "cell_type": "code",
   "execution_count": 93,
   "id": "a729b8c7",
   "metadata": {},
   "outputs": [
    {
     "name": "stdout",
     "output_type": "stream",
     "text": [
      "Accuracy: 98.458%\n",
      "Cross-Validation score: 82.065%\n"
     ]
    }
   ],
   "source": [
    "predictor_var = ['sex', 'capital.gain', 'capital.loss', 'fnlwgt', 'target']\n",
    "\n",
    "classification_model(model, test, predictor_var, outcome_var)\n"
   ]
  },
  {
   "cell_type": "code",
   "execution_count": 94,
   "id": "e1d47cfd",
   "metadata": {},
   "outputs": [
    {
     "name": "stdout",
     "output_type": "stream",
     "text": [
      "Accuracy: 90.553%\n",
      "Cross-Validation score: 90.130%\n"
     ]
    }
   ],
   "source": [
    "model = DecisionTreeClassifier()\n",
    "predictor_var = ['sex', 'occupation',  'education.num']\n",
    "classification_model(model, test, predictor_var, outcome_var)"
   ]
  },
  {
   "cell_type": "code",
   "execution_count": 95,
   "id": "4b35ca16",
   "metadata": {},
   "outputs": [
    {
     "name": "stdout",
     "output_type": "stream",
     "text": [
      "Accuracy: 99.687%\n",
      "Cross-Validation score: 81.776%\n"
     ]
    }
   ],
   "source": [
    "predictor_var = ['sex',  'fnlwgt', 'target', 'occupation']\n",
    "\n",
    "classification_model(model, test, predictor_var, outcome_var)\n"
   ]
  },
  {
   "cell_type": "code",
   "execution_count": 96,
   "id": "131c38e3",
   "metadata": {},
   "outputs": [
    {
     "name": "stdout",
     "output_type": "stream",
     "text": [
      "Accuracy: 100.000%\n",
      "Cross-Validation score: 97.641%\n"
     ]
    }
   ],
   "source": [
    "model = RandomForestClassifier(n_estimators = 100)\n",
    "predictor_var = ['age', 'workclass', 'fnlwgt', 'education', 'marital.status',\n",
    "                'sex', 'hours.per.week', 'native.country',\n",
    "                'capital.gain', 'capital.loss', 'target']\n",
    "classification_model(model, test, predictor_var, outcome_var)\n"
   ]
  },
  {
   "cell_type": "code",
   "execution_count": 89,
   "id": "1b205e7c",
   "metadata": {},
   "outputs": [],
   "source": [
    "featimp = pd.Series(model.feature_importances_, index = predictor_var).sort_values(ascending = False)"
   ]
  },
  {
   "cell_type": "code",
   "execution_count": 90,
   "id": "a3a6829b",
   "metadata": {},
   "outputs": [
    {
     "data": {
      "text/plain": [
       "native.country    0.755831\n",
       "fnlwgt            0.065318\n",
       "age               0.047936\n",
       "education         0.043512\n",
       "hours.per.week    0.029447\n",
       "marital.status    0.016858\n",
       "workclass         0.015709\n",
       "sex               0.009290\n",
       "capital.gain      0.006372\n",
       "target            0.005375\n",
       "capital.loss      0.004351\n",
       "dtype: float64"
      ]
     },
     "execution_count": 90,
     "metadata": {},
     "output_type": "execute_result"
    }
   ],
   "source": [
    "featimp"
   ]
  },
  {
   "cell_type": "code",
   "execution_count": 97,
   "id": "070f0254",
   "metadata": {},
   "outputs": [
    {
     "name": "stdout",
     "output_type": "stream",
     "text": [
      "Accuracy: 91.991%\n",
      "Cross-Validation score: 91.837%\n"
     ]
    }
   ],
   "source": [
    "model = RandomForestClassifier(n_estimators = 50, min_samples_split = 25,\n",
    "                               max_depth = 6, max_features = 1)\n",
    "predictor_var = ['native.country', 'sex', 'capital.gain', 'target', \n",
    "                 'marital.status','capital.loss']\n",
    "classification_model(model, test, predictor_var, outcome_var)\n"
   ]
  },
  {
   "cell_type": "code",
   "execution_count": null,
   "id": "a079a960",
   "metadata": {},
   "outputs": [],
   "source": []
  }
 ],
 "metadata": {
  "kernelspec": {
   "display_name": "Python 3 (ipykernel)",
   "language": "python",
   "name": "python3"
  },
  "language_info": {
   "codemirror_mode": {
    "name": "ipython",
    "version": 3
   },
   "file_extension": ".py",
   "mimetype": "text/x-python",
   "name": "python",
   "nbconvert_exporter": "python",
   "pygments_lexer": "ipython3",
   "version": "3.11.5"
  }
 },
 "nbformat": 4,
 "nbformat_minor": 5
}
